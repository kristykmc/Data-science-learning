{
 "cells": [
  {
   "cell_type": "code",
   "execution_count": 1,
   "id": "ae4ddfe2-895b-4a2e-bca1-81d08fd121d5",
   "metadata": {},
   "outputs": [
    {
     "name": "stdout",
     "output_type": "stream",
     "text": [
      "Hello world!\n"
     ]
    }
   ],
   "source": [
    "print('Hello world!')"
   ]
  },
  {
   "cell_type": "code",
   "execution_count": 5,
   "id": "9c7b4d14-ad10-4415-8af2-2673884ecbac",
   "metadata": {},
   "outputs": [
    {
     "ename": "SyntaxError",
     "evalue": "invalid syntax (1578745968.py, line 1)",
     "output_type": "error",
     "traceback": [
      "\u001b[0;36m  Input \u001b[0;32mIn [5]\u001b[0;36m\u001b[0m\n\u001b[0;31m    print(Hello world!)\u001b[0m\n\u001b[0m                ^\u001b[0m\n\u001b[0;31mSyntaxError\u001b[0m\u001b[0;31m:\u001b[0m invalid syntax\n"
     ]
    }
   ],
   "source": [
    "print(Hello world!)"
   ]
  },
  {
   "cell_type": "code",
   "execution_count": 29,
   "id": "6b3296e3-a9bb-4aad-b839-42891fc4e098",
   "metadata": {},
   "outputs": [
    {
     "name": "stdout",
     "output_type": "stream",
     "text": [
      "my name is Wayne\n"
     ]
    }
   ],
   "source": [
    "print('my name is Wayne')"
   ]
  },
  {
   "cell_type": "code",
   "execution_count": null,
   "id": "07e2bd4e-c7ae-4d1f-bb8f-858fdaea14b1",
   "metadata": {},
   "outputs": [],
   "source": []
  },
  {
   "cell_type": "code",
   "execution_count": 1,
   "id": "b95aa194-39be-4ddc-9628-193a1c11eadc",
   "metadata": {},
   "outputs": [
    {
     "name": "stdout",
     "output_type": "stream",
     "text": [
      "restarted\n"
     ]
    }
   ],
   "source": [
    "print('restarted')"
   ]
  },
  {
   "cell_type": "code",
   "execution_count": null,
   "id": "5047ebe8-7572-4952-a7ee-82bcea376c7d",
   "metadata": {},
   "outputs": [],
   "source": []
  }
 ],
 "metadata": {
  "kernelspec": {
   "display_name": "Python 3 (ipykernel)",
   "language": "python",
   "name": "python3"
  },
  "language_info": {
   "codemirror_mode": {
    "name": "ipython",
    "version": 3
   },
   "file_extension": ".py",
   "mimetype": "text/x-python",
   "name": "python",
   "nbconvert_exporter": "python",
   "pygments_lexer": "ipython3",
   "version": "3.8.13"
  }
 },
 "nbformat": 4,
 "nbformat_minor": 5
}
